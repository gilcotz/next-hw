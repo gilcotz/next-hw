{
 "cells": [
  {
   "cell_type": "markdown",
   "metadata": {},
   "source": [
    "# Functions, Scoping, Data Collections 1 & List Comprehensions"
   ]
  },
  {
   "cell_type": "markdown",
   "metadata": {},
   "source": [
    "## Tasks Today:\n",
    "\n",
    "<i>Monday Additions (or, and ... if statements)</i>\n",
    "\n",
    "1) String Manipulation <br>\n",
    " &nbsp;&nbsp;&nbsp;&nbsp; a) strip() <br>\n",
    " &nbsp;&nbsp;&nbsp;&nbsp; b) title() <br>\n",
    "2) Lists (yesterday's overflow) & Working With Lists <br>\n",
    " &nbsp;&nbsp;&nbsp;&nbsp; a) min() <br>\n",
    " &nbsp;&nbsp;&nbsp;&nbsp; b) max() <br>\n",
    " &nbsp;&nbsp;&nbsp;&nbsp; c) sum() <br>\n",
    " &nbsp;&nbsp;&nbsp;&nbsp; d) sort() <br>\n",
    " &nbsp;&nbsp;&nbsp;&nbsp; e) Copying a List <br>\n",
    " &nbsp;&nbsp;&nbsp;&nbsp; f) 'in' keyword <br>\n",
    " &nbsp;&nbsp;&nbsp;&nbsp; g) 'not in' keyword <br>\n",
    " &nbsp;&nbsp;&nbsp;&nbsp; i) Checking an Empty List <br>\n",
    " &nbsp;&nbsp;&nbsp;&nbsp; j) Removing Instances with a Loop <br>\n",
    "3) List Comprehensions <br>\n",
    "4) Tuples <br>\n",
    " &nbsp;&nbsp;&nbsp;&nbsp; a) sorted() <br>\n",
    "5) Functions <br>\n",
    " &nbsp;&nbsp;&nbsp;&nbsp; a) User-Defined vs. Built-In Functions <br>\n",
    " &nbsp;&nbsp;&nbsp;&nbsp; b) Accepting Parameters <br>\n",
    " &nbsp;&nbsp;&nbsp;&nbsp; c) Default Parameters <br>\n",
    " &nbsp;&nbsp;&nbsp;&nbsp; d) Making an Argument Optional <br>\n",
    " &nbsp;&nbsp;&nbsp;&nbsp; e) Keyword Arguments <br>\n",
    " &nbsp;&nbsp;&nbsp;&nbsp; f) Returning Values <br>\n",
    " &nbsp;&nbsp;&nbsp;&nbsp; g) *args <br>\n",
    " &nbsp;&nbsp;&nbsp;&nbsp; h) Docstring <br>\n",
    " &nbsp;&nbsp;&nbsp;&nbsp; i) Using a User Function in a Loop <br>\n",
    "6) Scope"
   ]
  },
  {
   "cell_type": "markdown",
   "metadata": {},
   "source": [
    "### String Manipulation"
   ]
  },
  {
   "cell_type": "markdown",
   "metadata": {},
   "source": [
    "##### .lstrip()"
   ]
  },
  {
   "cell_type": "code",
   "execution_count": null,
   "metadata": {},
   "outputs": [],
   "source": [
    "# string.lstrip() specifically to strings on the left side  order does not matter\n",
    "\n",
    "name = \"                            h jonh Smith\"\n",
    "print(name.lstrip(\" \" \"h\"))\n",
    "\n"
   ]
  },
  {
   "cell_type": "markdown",
   "metadata": {},
   "source": [
    "##### .rstrip()"
   ]
  },
  {
   "cell_type": "code",
   "execution_count": null,
   "metadata": {},
   "outputs": [],
   "source": [
    "# string.rstrip() same as the above but on the right side  order does not matter \n",
    "\n",
    "name= \"Bill Ross  \"\n",
    "print(name.rstrip(\" \" \"thoprrrs\"))"
   ]
  },
  {
   "cell_type": "markdown",
   "metadata": {},
   "source": [
    "##### .strip()"
   ]
  },
  {
   "cell_type": "code",
   "execution_count": null,
   "metadata": {},
   "outputs": [],
   "source": [
    "# string.strip()\n",
    "\n",
    "name = \"          Jonh Smith          th\"\n",
    "print(name.strip(\" th\"))\n"
   ]
  },
  {
   "cell_type": "markdown",
   "metadata": {},
   "source": [
    "##### .title()"
   ]
  },
  {
   "cell_type": "code",
   "execution_count": null,
   "metadata": {},
   "outputs": [],
   "source": [
    "# string.title()\n",
    "\n",
    "president = \"joe bidden\"\n",
    "print(president.title())"
   ]
  },
  {
   "cell_type": "markdown",
   "metadata": {},
   "source": [
    "### String Exercise <br>\n",
    "<p>Strip all white space and capitalize every name in the list given</p>"
   ]
  },
  {
   "cell_type": "code",
   "execution_count": null,
   "metadata": {},
   "outputs": [],
   "source": [
    "names = ['    coNNor', 'max', ' EVan ', 'JORDAN']\n",
    "# HINT: You will need to use a for loop for iteration\n",
    "# for name in names:\n",
    "#     print(name.title().lstrip(\" \"))\n",
    "    \n",
    "# new list\n",
    "\n",
    "# new_l =[]\n",
    "# for name in names:\n",
    "#     new_l.append(name.title().strip())\n",
    "#     print(new_l)\n",
    "    \n",
    "for i in range(len(names)):\n",
    "    name[i] = names[i].strip().title()\n",
    "    print(names)\n",
    "\n"
   ]
  },
  {
   "cell_type": "markdown",
   "metadata": {},
   "source": [
    "### Lists"
   ]
  },
  {
   "cell_type": "markdown",
   "metadata": {},
   "source": [
    "##### Declaring Lists"
   ]
  },
  {
   "cell_type": "code",
   "execution_count": null,
   "metadata": {},
   "outputs": [],
   "source": [
    "l_1 = [] # Empty List Declaration\n",
    "\n",
    "names= ['max', 'carrie', 'kathy', 'justin', 'nate', 'marcus', 'joel']\n",
    "\n",
    "print(names)\n",
    "\n"
   ]
  },
  {
   "cell_type": "markdown",
   "metadata": {},
   "source": [
    "##### Indexing a List"
   ]
  },
  {
   "cell_type": "code",
   "execution_count": null,
   "metadata": {},
   "outputs": [],
   "source": [
    "# [start: stop: step] -- [-1]\n",
    "\n",
    "#Single Index\n",
    "\n",
    "print(name[0].title())\n",
    "\n",
    "# Print starting at index 1 going to the end\n",
    "\n",
    "print(names[1:])\n",
    "\n",
    "\n",
    "\n",
    "#Print starting at beginning of list to N (n == the number we want to stop at)\n",
    "\n",
    "print(names[0:2])\n",
    "\n",
    "# print starting at index 1 going up BY 2 in each iteration\n",
    "\n",
    "print(names[1::2])\n",
    "\n",
    "# print starting at the back and present in reverse order\n",
    "\n",
    "print(names[::-1])\n"
   ]
  },
  {
   "cell_type": "markdown",
   "metadata": {},
   "source": [
    "##### .append()"
   ]
  },
  {
   "cell_type": "code",
   "execution_count": null,
   "metadata": {},
   "outputs": [],
   "source": [
    "print(names)\n",
    "names.append(\"derek\")\n",
    "print(names)\n"
   ]
  },
  {
   "cell_type": "markdown",
   "metadata": {},
   "source": [
    "##### .insert()"
   ]
  },
  {
   "cell_type": "code",
   "execution_count": null,
   "metadata": {},
   "outputs": [],
   "source": [
    "# list.insert(index,value)\n",
    "\n",
    "print(names)\n",
    "names.insert(3, \"taty\")\n",
    "print(names)\n"
   ]
  },
  {
   "cell_type": "markdown",
   "metadata": {},
   "source": [
    "##### .pop()"
   ]
  },
  {
   "cell_type": "code",
   "execution_count": null,
   "metadata": {},
   "outputs": [],
   "source": [
    "# default is the last value if no parameter is given\n",
    "# pop returns the element that was removed in case you want to assign it into a variable\n",
    "print(names)\n",
    "individuals_not_fit = names.pop(0)\n",
    "print(individuals_not_fit)"
   ]
  },
  {
   "cell_type": "markdown",
   "metadata": {},
   "source": [
    "\n",
    "##### .remove()"
   ]
  },
  {
   "cell_type": "code",
   "execution_count": 5,
   "metadata": {},
   "outputs": [
    {
     "name": "stdout",
     "output_type": "stream",
     "text": [
      "['max', 'carrie', 'kathy', 'justin', 'nate', 'marcus', 'joel']\n",
      "['max', 'carrie', 'kathy', 'nate', 'marcus', 'joel']\n"
     ]
    }
   ],
   "source": [
    "# value to be removed , not index\n",
    "# print(names)\n",
    "# names.remove('justin')\n",
    "# print(names)\n",
    "\n",
    "names= ['max', 'carrie', 'kathy', 'justin', 'nate', 'marcus', 'joel']\n",
    "while \"justin\" in names:\n",
    "        print(names)\n",
    "        names.remove(\"justin\")\n",
    "print(names)\n",
    "\n",
    "\n"
   ]
  },
  {
   "cell_type": "markdown",
   "metadata": {},
   "source": [
    "##### del()"
   ]
  },
  {
   "cell_type": "code",
   "execution_count": 6,
   "metadata": {},
   "outputs": [
    {
     "name": "stdout",
     "output_type": "stream",
     "text": [
      "['max', 'kathy', 'nate', 'marcus', 'joel']\n"
     ]
    }
   ],
   "source": [
    "# index to be removed, not value\n",
    "# BE CAREFUL with del, can cause indexing errors if not used carefully\n",
    "\n",
    "del(names[1])\n",
    "print(names)\n",
    "\n"
   ]
  },
  {
   "cell_type": "code",
   "execution_count": null,
   "metadata": {},
   "outputs": [],
   "source": [
    "#reassigning a value by index\n",
    "print(names)\n",
    "# names([2]) = 'tatiana'\n",
    "print(names)\n",
    "\n"
   ]
  },
  {
   "cell_type": "markdown",
   "metadata": {},
   "source": [
    "##### Concatenating Two Lists"
   ]
  },
  {
   "cell_type": "code",
   "execution_count": null,
   "metadata": {},
   "outputs": [],
   "source": [
    "# will append two lists together, not add up the elements in each list\n",
    "\n",
    "l_2 = [0,1,2]\n",
    "l_3 = [3,4,5]\n",
    "\n",
    "large_list= l_2 + l_3\n",
    "print(large_list)"
   ]
  },
  {
   "cell_type": "markdown",
   "metadata": {},
   "source": [
    "##### Lists Within Lists"
   ]
  },
  {
   "cell_type": "code",
   "execution_count": null,
   "metadata": {},
   "outputs": [],
   "source": [
    "# Lists are able to hold any type of element, including OTHER lists themsevles\n",
    "# they can also go as deep as you want, having many lists nested inside of each other\n",
    "\n",
    "names = [\"Max\", \"Sam\",\"Josh\",[\"Sally\",\"Sue\",\"Tameka\"]]\n",
    "\n",
    "print(names[0])\n",
    "print(names[1])\n",
    "print(names[2])\n",
    "print()\n",
    "print(names[3][0])\n",
    "print(names[3][1])\n",
    "print(names[3][2])\n",
    "\n",
    "\n"
   ]
  },
  {
   "cell_type": "markdown",
   "metadata": {},
   "source": [
    "##### Looping Through Lists"
   ]
  },
  {
   "cell_type": "code",
   "execution_count": null,
   "metadata": {},
   "outputs": [],
   "source": [
    "# two ways to loop through a list, one is by index, the other is by using the 'in' keyword\n",
    "\n",
    "# Loop with a for loop (By Index)\n",
    "\n",
    "for i in range(len(names)):\n",
    "    print(names[i])\n",
    "    \n",
    "# Loop with a for loop (Using the 'in' keyword)\n",
    "\n",
    "for name in names:\n",
    "    print(name)"
   ]
  },
  {
   "cell_type": "markdown",
   "metadata": {},
   "source": [
    "### Working With Lists"
   ]
  },
  {
   "cell_type": "markdown",
   "metadata": {},
   "source": [
    "##### min()"
   ]
  },
  {
   "cell_type": "code",
   "execution_count": null,
   "metadata": {},
   "outputs": [],
   "source": [
    "# min(list)\n",
    "num= [1,42,93,14,5]\n",
    "print(min(num))"
   ]
  },
  {
   "cell_type": "markdown",
   "metadata": {},
   "source": [
    "##### max()"
   ]
  },
  {
   "cell_type": "code",
   "execution_count": null,
   "metadata": {},
   "outputs": [],
   "source": [
    "# max(list)\n",
    "\n",
    "print(max(num))\n"
   ]
  },
  {
   "cell_type": "markdown",
   "metadata": {},
   "source": [
    "##### sum()"
   ]
  },
  {
   "cell_type": "code",
   "execution_count": null,
   "metadata": {},
   "outputs": [],
   "source": [
    "# sum(list)\n",
    "print(sum(num))\n",
    "\n"
   ]
  },
  {
   "cell_type": "markdown",
   "metadata": {},
   "source": [
    "##### sorted()"
   ]
  },
  {
   "cell_type": "code",
   "execution_count": null,
   "metadata": {},
   "outputs": [],
   "source": [
    "# sorted(list)\n",
    "print(num)\n",
    "\n",
    "sorted_num = sorted(num)\n",
    "\n",
    "print(f'original numbers list:{num}')\n",
    "print(f'Sorted numbers list: {sorted_num}')\n",
    "\n",
    "#alphabetical or ascending  #I noticed that if you dont add a comma then it will\n",
    "#combine the two list together for the ones that do not commas between the words\n",
    "print(sorted(['nate', 'zebra', 'bravo', '2', '45678']))\n"
   ]
  },
  {
   "cell_type": "markdown",
   "metadata": {},
   "source": [
    "##### .sort() <br>\n",
    "<p>Difference between sort and sorted, is that sorted doesn't change original list it returns a copy, while .sort changes the original list</p>"
   ]
  },
  {
   "cell_type": "code",
   "execution_count": null,
   "metadata": {},
   "outputs": [],
   "source": [
    "# list.sort()\n",
    "print(f'Before sort:{num}')\n",
    "num.sort()\n",
    "\n",
    "print(f'after sort: {num}')\n",
    "\n",
    "# use sorted when you don't want to alter original list, use .sort() when you want to alter original list"
   ]
  },
  {
   "cell_type": "markdown",
   "metadata": {},
   "source": [
    "##### Copying a List"
   ]
  },
  {
   "cell_type": "code",
   "execution_count": null,
   "metadata": {},
   "outputs": [],
   "source": [
    "# [:] copies a list, doesn't alter original\n",
    "\n",
    "numbers= num[:]\n",
    "print(numbers)\n",
    "print(num)\n"
   ]
  },
  {
   "cell_type": "markdown",
   "metadata": {},
   "source": [
    "##### 'in' keyword"
   ]
  },
  {
   "cell_type": "code",
   "execution_count": null,
   "metadata": {},
   "outputs": [],
   "source": [
    "t_teachers=['joel', 'derek', 'nate', 'brian', 'sam', 'marcus']\n",
    "\n",
    "if 'derek' in t_teachers:\n",
    "    print(\"derek is a teacher at CT\")\n",
    "else:\n",
    "    print(\"derek is not a teacher at CT\")\n",
    "    \n",
    "for name in t_teachers:\n",
    "    if \"B\" in names:\n",
    "        print('name includes \"B\"')\n",
    "    else:\n",
    "        print('Name does not start with \"B\"')\n",
    "        \n",
    "for name in t_teachers:\n",
    "    if 'B' in names[0]:\n",
    "        print(\"name includes B\")\n",
    "    else:\n",
    "        print('Name does not start with B')\n",
    "    "
   ]
  },
  {
   "cell_type": "markdown",
   "metadata": {},
   "source": [
    "##### 'not in' keyword"
   ]
  },
  {
   "cell_type": "code",
   "execution_count": null,
   "metadata": {},
   "outputs": [],
   "source": [
    "if 'nicole' not in t_teachers:\n",
    "    print('Nicole is not an instructor')"
   ]
  },
  {
   "cell_type": "markdown",
   "metadata": {},
   "source": [
    "##### Checking an Empty List"
   ]
  },
  {
   "cell_type": "code",
   "execution_count": null,
   "metadata": {},
   "outputs": [],
   "source": [
    "# if l_1: or if l_1 = []\n",
    "l_2 =[]\n",
    "\n",
    "if l_2:\n",
    "    print('it is a list with contents')\n",
    "if l_2 ==[]:\n",
    "    print('empty list')"
   ]
  },
  {
   "cell_type": "markdown",
   "metadata": {},
   "source": [
    "##### Removing Instances with a Loop"
   ]
  },
  {
   "cell_type": "code",
   "execution_count": null,
   "metadata": {},
   "outputs": [],
   "source": [
    "# while, remove\n",
    "\n",
    "names =['connor', 'jeff', 'alex', 'julia', 'rob', 'julia', 'claire']\n",
    "\n",
    "\n",
    "while 'julia' in names:\n",
    "    names.remove('julia')\n",
    "    print(names)\n",
    "    \n"
   ]
  },
  {
   "cell_type": "markdown",
   "metadata": {},
   "source": [
    "### List Exercise <br>\n",
    "<p>Remove all duplicates<br><b>Extra: Create a program that will remove any duplicates from a given list</b></p>"
   ]
  },
  {
   "cell_type": "code",
   "execution_count": null,
   "metadata": {},
   "outputs": [],
   "source": [
    "names = ['connor', 'connor', 'bob', 'connor', 'evan', 'max', 'evan', 2, 2, 2, 3, 3, 4, 'bob', 'kevin']\n",
    "# Hint 1: You will need an append\n",
    "# Hint 2: Using an empty list will make life easier\n",
    "#make sure that you practice more in code wars\n",
    "\n",
    "# names_2 = []\n",
    "\n",
    "# for name in names:\n",
    "#     if name not in names_2:\n",
    "#         names_2.append(name)\n",
    "        \n",
    "# print(names_2)\n",
    "\n",
    "\n",
    "for i in names:\n",
    "    no_dups_names= list(set(names))\n",
    "    print(no_dups_names)\n",
    " "
   ]
  },
  {
   "cell_type": "markdown",
   "metadata": {},
   "source": [
    "### List Comprehensions <br>\n",
    "<p>Creating a quickly generated list to work with<br>*result*  = [*transform*    *iteration*         *filter*     ]</p>"
   ]
  },
  {
   "cell_type": "markdown",
   "metadata": {},
   "source": [
    "\n",
    "##### In a list comprehension we have a few pieces:\n",
    "1. The first is the counter/ variable - IN this the variable is x\n",
    "2. then we have a transform for the variable\n",
    "3. The finale part of a list comp is called the condition\n",
    "\n",
    "```python\n",
    "    [variable, transform, condition]\n",
    "```"
   ]
  },
  {
   "cell_type": "code",
   "execution_count": null,
   "metadata": {},
   "outputs": [],
   "source": [
    "# number comprehension\n",
    "\n",
    "# With a regular for loop\n",
    "num=[]\n",
    "\n",
    "for i in range(100):\n",
    "    num.append(i)\n",
    "print(num)\n",
    "\n",
    "# IN a list comprehension we have a few pieces:\n",
    "# The first is the counter/ variable - IN this the variable is x\n",
    "# Then we have a transform for the variable \n",
    "# The finale part of a list comp is called the condition\n",
    "#[variable, transform, condition]\n",
    "\n",
    "# variable\n",
    "\n",
    "nums_comp= [i for i in range(100)]\n",
    "print(nums_comps)"
   ]
  },
  {
   "cell_type": "markdown",
   "metadata": {},
   "source": [
    "There are a few benefits to using List comprehensions. The most obvious would be that we now have shorter code to work with instead of using 3+ lines of code in the for loop variant.\n",
    "\n",
    "Another is an added benefit to memory usage. Since the list's memory is allocated first before adding elements to it, we don't have to resize the list once we add elements to it.\n",
    "\n",
    "Lastly, list comprehensions are considered the \"pythonic\" way to write code by the PEP8 standards (Python Style Guide)"
   ]
  },
  {
   "cell_type": "code",
   "execution_count": null,
   "metadata": {},
   "outputs": [],
   "source": [
    "# square number comprehension\n",
    "\n",
    "sqr = [x**2 for x in range(10)]\n",
    "print(sqr)\n",
    "\n",
    "\n",
    "#comparable appending this is the same as the above but with more lines\n",
    "srq_1= []\n",
    "\n",
    "for x in range(10):\n",
    "    sqr_1.append(xx**2)\n",
    "print(sqr_1)"
   ]
  },
  {
   "cell_type": "code",
   "execution_count": null,
   "metadata": {},
   "outputs": [],
   "source": [
    "# string comprehension\n",
    "\n",
    "names= ['connor', 'jeff', 'alex', 'rob', 'julia', 'clarie']\n",
    "\n",
    "first_char_comp =[name[0] for name in names]\n",
    "\n",
    "print(first_char_comp)\n",
    "\n",
    "#og for loop version\n",
    "\n",
    "for name in names:\n",
    "    first_char.append(name[0])\n",
    "print(first_char)\n",
    "\n"
   ]
  },
  {
   "cell_type": "code",
   "execution_count": null,
   "metadata": {},
   "outputs": [],
   "source": [
    "c_names=[first_name for first_name in names if first_name[0]== 'c']\n",
    "# the first_name up in the brackets is the append(first_name)\n",
    "print(c_names)\n",
    "\n",
    "#ogg\n",
    "c_reg = []\n",
    "for first_name in names:\n",
    "    if first_name[0]== 'c':\n",
    "        c_reg.append(first_name)\n",
    "print(c_reg)"
   ]
  },
  {
   "cell_type": "code",
   "execution_count": null,
   "metadata": {},
   "outputs": [],
   "source": [
    "#else needs more review\n",
    "c_names_2 =[first_name if first_name[0]== 'c' else False for first_name in names]\n",
    "print(c_names_2)"
   ]
  },
  {
   "cell_type": "markdown",
   "metadata": {},
   "source": [
    "### Tuples <br>\n",
    "<p><b>Defined as an immutable list</b></p><br>Seperated by commas using parenthesis"
   ]
  },
  {
   "cell_type": "code",
   "execution_count": null,
   "metadata": {},
   "outputs": [],
   "source": [
    "tup_1 = 1,2,3\n",
    "tup_2 =(1,2,3)\n",
    "\n",
    "print(type(tup_1))\n",
    "\n",
    "print(type(tup_2))\n",
    "\n",
    "# tup_1[1]= 50  if you try to print this it wont work sin tuple cannot be change \n",
    "\n",
    "#looping over a tuple\n",
    "\n",
    "for number in tup_1:\n",
    "    print(number)\n",
    "#index loops\n",
    "for i in range(len(tup_1)):\n",
    "    print(tup_1[i])\n"
   ]
  },
  {
   "cell_type": "markdown",
   "metadata": {},
   "source": [
    "##### sorted()\n"
   ]
  },
  {
   "cell_type": "code",
   "execution_count": null,
   "metadata": {},
   "outputs": [],
   "source": [
    "tup_3= (20, 5, 1, 3, 9, 45)\n",
    "\n",
    "sorted_tup = tuple(sorted(tup_3))  #also asigning it to as sorted(tup_3) this \n",
    "# will be an print but it would not be a tuple \n",
    "\n",
    "print(sorted_tup)"
   ]
  },
  {
   "cell_type": "markdown",
   "metadata": {},
   "source": [
    "##### Adding values to a Tuple"
   ]
  },
  {
   "cell_type": "code",
   "execution_count": null,
   "metadata": {},
   "outputs": [],
   "source": [
    "print(tup_1)\n",
    "\n",
    "# tup_1[0]=4\n",
    "\n",
    "tup_1= tup_1 + (5,)  # make sure it has the comma since it would not be able to read it as a tuple...\n",
    "#as long it has a comma you can more integers, or words\n",
    "print(tup_1)\n"
   ]
  },
  {
   "cell_type": "markdown",
   "metadata": {},
   "source": [
    "## Functions"
   ]
  },
  {
   "cell_type": "markdown",
   "metadata": {},
   "source": [
    "##### User-Defined vs. Built-In Functions"
   ]
  },
  {
   "cell_type": "code",
   "execution_count": null,
   "metadata": {},
   "outputs": [],
   "source": [
    "#user defined funciton\n",
    "\n",
    "def hello_world():\n",
    "    return \"hello world\"\n",
    "hello_world()\n",
    "\n",
    "#calling a function\n",
    "\n",
    "print(helloworld())\n",
    "\n",
    "#showing the function in memory\n",
    "\n",
    "print(helloworld)\n",
    "\n"
   ]
  },
  {
   "cell_type": "markdown",
   "metadata": {},
   "source": [
    "##### Accepting Parameters"
   ]
  },
  {
   "cell_type": "code",
   "execution_count": null,
   "metadata": {},
   "outputs": [],
   "source": [
    "#order matter!\n",
    "#A variable can be any type of python object\n",
    "\n",
    "def printFulName(first,last):\n",
    "    return f'Hello {first} {last}!'\n",
    "    \n",
    "print(printFulName('gil', 'cot'))\n",
    "\n",
    "print(printFulName(last='Cotz', first=\"Gil\"))"
   ]
  },
  {
   "cell_type": "markdown",
   "metadata": {},
   "source": [
    "##### Default Parameters"
   ]
  },
  {
   "cell_type": "code",
   "execution_count": null,
   "metadata": {},
   "outputs": [],
   "source": [
    "#help(\"type whatever function word you need help with\")\n",
    "\n",
    "def printAgentName(first, last= 'Bond'):\n",
    "    return f'The name is... {first} {last}'\n",
    "\n",
    "print(printAgentName(\"James\"))\n",
    "\n",
    "print(printAgentName('James', \"Temple\"))"
   ]
  },
  {
   "cell_type": "markdown",
   "metadata": {},
   "source": [
    "##### Making an Argument Optional"
   ]
  },
  {
   "cell_type": "code",
   "execution_count": null,
   "metadata": {},
   "outputs": [],
   "source": [
    "def printHorseName(first, middle=\"\", last='Ed'):\n",
    "    return f'Hello {first} {middle} {last}'\n",
    "\n",
    "print(printHorseName(\"Mr.\" 'gil', 'cotz'))"
   ]
  },
  {
   "cell_type": "markdown",
   "metadata": {},
   "source": [
    "##### Keyword Arguments"
   ]
  },
  {
   "cell_type": "code",
   "execution_count": null,
   "metadata": {},
   "outputs": [],
   "source": [
    "# last_name='Max', first_name='Smith' in the function call\n",
    "\n",
    "# see above"
   ]
  },
  {
   "cell_type": "markdown",
   "metadata": {},
   "source": [
    "# Creating a start, stop, step function"
   ]
  },
  {
   "cell_type": "code",
   "execution_count": null,
   "metadata": {},
   "outputs": [],
   "source": [
    "def myRange(stop, start=0, step=1):\n",
    "    for i in range(start, stop, step):\n",
    "        print(i)\n",
    "        \n",
    "myRange(20)"
   ]
  },
  {
   "cell_type": "markdown",
   "metadata": {},
   "source": [
    "##### Returning Values"
   ]
  },
  {
   "cell_type": "code",
   "execution_count": null,
   "metadata": {},
   "outputs": [],
   "source": [
    "#for i in range(0,20,1):\n",
    "#    print(i)\n",
    "    \n",
    "    \n",
    "#return differs form print, return will finish your line \n",
    "\n",
    "\n",
    "def addnums(num1, num2):\n",
    "    return num1+ num2\n",
    "\n",
    "addnums(5,4)"
   ]
  },
  {
   "cell_type": "markdown",
   "metadata": {},
   "source": [
    "##### *args / **kwargs (AKA KeyWord Args)"
   ]
  },
  {
   "cell_type": "code",
   "execution_count": null,
   "metadata": {},
   "outputs": [],
   "source": [
    "#args stand fo rarguments takes in any  amount of arguments as params\n",
    "#must be last if muliple parameters are present\n",
    "#make sure to add * for args and **kwargs\n",
    "\n",
    "def printArgs(num1, *args, **kwargs):\n",
    "    print(num1)\n",
    "    print(args)\n",
    "    \n",
    "printArgs(12, 'DragonZord', 'Vanilla', 2, 3)"
   ]
  },
  {
   "cell_type": "markdown",
   "metadata": {},
   "source": [
    "##### Docstring"
   ]
  },
  {
   "cell_type": "code",
   "execution_count": null,
   "metadata": {},
   "outputs": [],
   "source": [
    "def printnames(list_1):\n",
    "    \"\"\"\n",
    "        printNames(list_1)\n",
    "        function requires a list to be passed as an arguments\n",
    "        and will. print the contents of the list. Expection a list fo names(strings) to be passed in.\n",
    "     \"\"\"\n",
    "    for name in list_1:\n",
    "        print(name)\n",
    "        \n",
    "# printnames(['gil, 'jonny', 'mark'])\n",
    "            \n",
    "help(printnames)"
   ]
  },
  {
   "cell_type": "markdown",
   "metadata": {},
   "source": [
    "##### Using a User Function in a Loop"
   ]
  },
  {
   "cell_type": "code",
   "execution_count": null,
   "metadata": {},
   "outputs": [],
   "source": [
    "fef printInput(answer):\n",
    "    print(answer)\n",
    "    \n",
    "while True:\n",
    "    ask Input(\"what do you want to do?\")\n",
    "    \n",
    "    printInput(ask)\n",
    "    \n",
    "    response= input(\"read to quit Y/N\")\n",
    "    if response.lower()==\"y\":\n",
    "        break"
   ]
  },
  {
   "cell_type": "markdown",
   "metadata": {},
   "source": [
    "## Function Exercise <br>\n",
    "<p>Write a function that loops through a list of first_names and a list of last_names, combines the two and return a list of full_names</p>"
   ]
  },
  {
   "cell_type": "code",
   "execution_count": null,
   "metadata": {},
   "outputs": [],
   "source": [
    "first_name = ['John', 'Evan', 'Jordan', 'Max']\n",
    "last_name = ['Smith', 'Smith', 'Williams', 'Bell']\n",
    "\n",
    "# Output: ['John Smith', 'Evan Smith', 'Jordan Williams', 'Max Bell']\n",
    "\n",
    "\n",
    "\n",
    "def fullNames(first_list, last_list):\n",
    "    new_list = []\n",
    "    for i in range(len(first_list)):\n",
    "          new_list.append(first_list[i] + ' ' + last_list[i])\n",
    "    return new_list\n",
    "                                    \n",
    "\n",
    "\n",
    "fullNames(first_name, last_name)\n",
    "                                    \n",
    "                                    \n",
    "# def FullName\n"
   ]
  },
  {
   "cell_type": "markdown",
   "metadata": {},
   "source": [
    "## Scope <br>\n",
    "<p>Scope refers to the ability to access variables, different types of scope include:<br>a) Global<br>b) Function (local)<br>c) Class (local)</p>"
   ]
  },
  {
   "cell_type": "code",
   "execution_count": null,
   "metadata": {},
   "outputs": [],
   "source": [
    "#the global varibale I can use it any where. placement fo variables declaration matters\n",
    "number= 3# global variable\n",
    "\n",
    "def myFunc():\n",
    "    num_3 = 6 #local function variable\n",
    "    return num_3\n",
    "\n",
    "#print(number_3) - causes error because variable is local to function\n",
    "\n",
    "return_num =myFunc()\n",
    "\n",
    "print(return_num)\n",
    "\n",
    "print(return_num)\n",
    "\n",
    "\n",
    "\n",
    "names =['nate','marcus','jake']\n",
    "for x in names:\n",
    "    print(x)\n",
    "                          #this still global level\n",
    "# print(x)\n",
    "\n",
    "\n",
    "\n",
    "# Function local class "
   ]
  },
  {
   "cell_type": "markdown",
   "metadata": {},
   "source": [
    "# Exercises"
   ]
  },
  {
   "cell_type": "markdown",
   "metadata": {},
   "source": [
    "## Exercise 1 <br>\n",
    "<p>Given a list as a parameter,write a function that returns a list of numbers that are less than ten</b></i></p><br>\n",
    "<p> For example: Say your input parameter to the function is [1,11,14,5,8,9]...Your output should [1,5,8,9]</p>"
   ]
  },
  {
   "cell_type": "code",
   "execution_count": 10,
   "metadata": {},
   "outputs": [
    {
     "name": "stdout",
     "output_type": "stream",
     "text": [
      "[1, 5, 8, 9, 11, 14]\n",
      "[1, 5, 8, 9]\n"
     ]
    }
   ],
   "source": [
    "# Use the following list - [1,11,14,5,8,9]\n",
    "\n",
    "# names= ['max', 'carrie', 'kathy', 'justin', 'nate', 'marcus', 'joel']\n",
    "#  while \"justin\" in names:\n",
    "#         print(names)\n",
    "#         names.remove(\"justin\")\n",
    "# print(names)\n",
    "\n",
    "l_1 = [1,11,14,5,8,9]\n",
    "new_l1= sorted(l_1)\n",
    "print(new_l1)\n",
    "\n",
    "del(new_l1[4:6])\n",
    "print(new_l1)\n",
    "    \n"
   ]
  },
  {
   "cell_type": "markdown",
   "metadata": {},
   "source": [
    "## Exercise 2 <br>\n",
    "<p>Write a function that takes in two lists and returns the two lists merged together and sorted<br>\n",
    "<b><i>Hint: You can use the .sort() method</i></b></p>"
   ]
  },
  {
   "cell_type": "code",
   "execution_count": null,
   "metadata": {},
   "outputs": [],
   "source": [
    "l_1 = [1,2,3,4,5,6]\n",
    "l_2 = [3,4,5,6,7,8,10]\n",
    "\n",
    "# combine_list= sorted(l_1) + sorted(l_2)\n",
    "\n",
    "# print(combine_list)\n",
    "\n",
    "\n",
    "combine_list = sorted(list1 + list2)\n",
    "\n",
    "print(combine_list)\n",
    "\n",
    " \n"
   ]
  },
  {
   "cell_type": "code",
   "execution_count": null,
   "metadata": {},
   "outputs": [],
   "source": []
  }
 ],
 "metadata": {
  "kernelspec": {
   "display_name": "Python 3",
   "language": "python",
   "name": "python3"
  },
  "language_info": {
   "codemirror_mode": {
    "name": "ipython",
    "version": 3
   },
   "file_extension": ".py",
   "mimetype": "text/x-python",
   "name": "python",
   "nbconvert_exporter": "python",
   "pygments_lexer": "ipython3",
   "version": "3.8.8"
  }
 },
 "nbformat": 4,
 "nbformat_minor": 2
}
